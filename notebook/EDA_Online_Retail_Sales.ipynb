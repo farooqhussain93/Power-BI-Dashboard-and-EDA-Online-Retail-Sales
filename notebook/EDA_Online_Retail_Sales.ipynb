{
 "cells": [
  {
   "cell_type": "code",
   "execution_count": 1,
   "id": "8c792f4e-dbd5-4d5a-9bba-feb13e3c29dd",
   "metadata": {},
   "outputs": [
    {
     "data": {
      "text/html": [
       "<div>\n",
       "<style scoped>\n",
       "    .dataframe tbody tr th:only-of-type {\n",
       "        vertical-align: middle;\n",
       "    }\n",
       "\n",
       "    .dataframe tbody tr th {\n",
       "        vertical-align: top;\n",
       "    }\n",
       "\n",
       "    .dataframe thead th {\n",
       "        text-align: right;\n",
       "    }\n",
       "</style>\n",
       "<table border=\"1\" class=\"dataframe\">\n",
       "  <thead>\n",
       "    <tr style=\"text-align: right;\">\n",
       "      <th></th>\n",
       "      <th>Invoice</th>\n",
       "      <th>StockCode</th>\n",
       "      <th>Description</th>\n",
       "      <th>Quantity</th>\n",
       "      <th>InvoiceDate</th>\n",
       "      <th>Price</th>\n",
       "      <th>Customer ID</th>\n",
       "      <th>Country</th>\n",
       "    </tr>\n",
       "  </thead>\n",
       "  <tbody>\n",
       "    <tr>\n",
       "      <th>0</th>\n",
       "      <td>536365</td>\n",
       "      <td>85123A</td>\n",
       "      <td>WHITE HANGING HEART T-LIGHT HOLDER</td>\n",
       "      <td>6</td>\n",
       "      <td>2010-12-01 08:26:00</td>\n",
       "      <td>2.55</td>\n",
       "      <td>17850.0</td>\n",
       "      <td>United Kingdom</td>\n",
       "    </tr>\n",
       "    <tr>\n",
       "      <th>1</th>\n",
       "      <td>536365</td>\n",
       "      <td>71053</td>\n",
       "      <td>WHITE METAL LANTERN</td>\n",
       "      <td>6</td>\n",
       "      <td>2010-12-01 08:26:00</td>\n",
       "      <td>3.39</td>\n",
       "      <td>17850.0</td>\n",
       "      <td>United Kingdom</td>\n",
       "    </tr>\n",
       "    <tr>\n",
       "      <th>2</th>\n",
       "      <td>536365</td>\n",
       "      <td>84406B</td>\n",
       "      <td>CREAM CUPID HEARTS COAT HANGER</td>\n",
       "      <td>8</td>\n",
       "      <td>2010-12-01 08:26:00</td>\n",
       "      <td>2.75</td>\n",
       "      <td>17850.0</td>\n",
       "      <td>United Kingdom</td>\n",
       "    </tr>\n",
       "    <tr>\n",
       "      <th>3</th>\n",
       "      <td>536365</td>\n",
       "      <td>84029G</td>\n",
       "      <td>KNITTED UNION FLAG HOT WATER BOTTLE</td>\n",
       "      <td>6</td>\n",
       "      <td>2010-12-01 08:26:00</td>\n",
       "      <td>3.39</td>\n",
       "      <td>17850.0</td>\n",
       "      <td>United Kingdom</td>\n",
       "    </tr>\n",
       "    <tr>\n",
       "      <th>4</th>\n",
       "      <td>536365</td>\n",
       "      <td>84029E</td>\n",
       "      <td>RED WOOLLY HOTTIE WHITE HEART.</td>\n",
       "      <td>6</td>\n",
       "      <td>2010-12-01 08:26:00</td>\n",
       "      <td>3.39</td>\n",
       "      <td>17850.0</td>\n",
       "      <td>United Kingdom</td>\n",
       "    </tr>\n",
       "  </tbody>\n",
       "</table>\n",
       "</div>"
      ],
      "text/plain": [
       "  Invoice StockCode                          Description  Quantity  \\\n",
       "0  536365    85123A   WHITE HANGING HEART T-LIGHT HOLDER         6   \n",
       "1  536365     71053                  WHITE METAL LANTERN         6   \n",
       "2  536365    84406B       CREAM CUPID HEARTS COAT HANGER         8   \n",
       "3  536365    84029G  KNITTED UNION FLAG HOT WATER BOTTLE         6   \n",
       "4  536365    84029E       RED WOOLLY HOTTIE WHITE HEART.         6   \n",
       "\n",
       "           InvoiceDate  Price  Customer ID         Country  \n",
       "0  2010-12-01 08:26:00   2.55      17850.0  United Kingdom  \n",
       "1  2010-12-01 08:26:00   3.39      17850.0  United Kingdom  \n",
       "2  2010-12-01 08:26:00   2.75      17850.0  United Kingdom  \n",
       "3  2010-12-01 08:26:00   3.39      17850.0  United Kingdom  \n",
       "4  2010-12-01 08:26:00   3.39      17850.0  United Kingdom  "
      ]
     },
     "execution_count": 1,
     "metadata": {},
     "output_type": "execute_result"
    }
   ],
   "source": [
    "import pandas as pd\n",
    "import numpy as np\n",
    "import matplotlib.pyplot as plt\n",
    "import seaborn as sns\n",
    "\n",
    "df = pd.read_csv(r\"D:\\Farooq_Hussain\\Python\\Data Analysis\\07 - EDA_Online_Retail_Sales\\data\\online_retail_2010_2011.csv\", encoding='latin-1')\n",
    "\n",
    "df.head()"
   ]
  },
  {
   "cell_type": "code",
   "execution_count": 3,
   "id": "af7a11c5-ca1e-48b3-8fd5-9581312b7bd8",
   "metadata": {},
   "outputs": [
    {
     "name": "stdout",
     "output_type": "stream",
     "text": [
      "Dataset contains 541910 rows and 8 columns\n",
      "<class 'pandas.core.frame.DataFrame'>\n",
      "RangeIndex: 541910 entries, 0 to 541909\n",
      "Data columns (total 8 columns):\n",
      " #   Column       Non-Null Count   Dtype  \n",
      "---  ------       --------------   -----  \n",
      " 0   Invoice      541910 non-null  object \n",
      " 1   StockCode    541910 non-null  object \n",
      " 2   Description  540456 non-null  object \n",
      " 3   Quantity     541910 non-null  int64  \n",
      " 4   InvoiceDate  541910 non-null  object \n",
      " 5   Price        541910 non-null  float64\n",
      " 6   Customer ID  406830 non-null  float64\n",
      " 7   Country      541910 non-null  object \n",
      "dtypes: float64(2), int64(1), object(5)\n",
      "memory usage: 33.1+ MB\n"
     ]
    },
    {
     "data": {
      "text/html": [
       "<div>\n",
       "<style scoped>\n",
       "    .dataframe tbody tr th:only-of-type {\n",
       "        vertical-align: middle;\n",
       "    }\n",
       "\n",
       "    .dataframe tbody tr th {\n",
       "        vertical-align: top;\n",
       "    }\n",
       "\n",
       "    .dataframe thead th {\n",
       "        text-align: right;\n",
       "    }\n",
       "</style>\n",
       "<table border=\"1\" class=\"dataframe\">\n",
       "  <thead>\n",
       "    <tr style=\"text-align: right;\">\n",
       "      <th></th>\n",
       "      <th>Quantity</th>\n",
       "      <th>Price</th>\n",
       "      <th>Customer ID</th>\n",
       "    </tr>\n",
       "  </thead>\n",
       "  <tbody>\n",
       "    <tr>\n",
       "      <th>count</th>\n",
       "      <td>541910.000000</td>\n",
       "      <td>541910.000000</td>\n",
       "      <td>406830.000000</td>\n",
       "    </tr>\n",
       "    <tr>\n",
       "      <th>mean</th>\n",
       "      <td>9.552234</td>\n",
       "      <td>4.611138</td>\n",
       "      <td>15287.684160</td>\n",
       "    </tr>\n",
       "    <tr>\n",
       "      <th>std</th>\n",
       "      <td>218.080957</td>\n",
       "      <td>96.759765</td>\n",
       "      <td>1713.603074</td>\n",
       "    </tr>\n",
       "    <tr>\n",
       "      <th>min</th>\n",
       "      <td>-80995.000000</td>\n",
       "      <td>-11062.060000</td>\n",
       "      <td>12346.000000</td>\n",
       "    </tr>\n",
       "    <tr>\n",
       "      <th>25%</th>\n",
       "      <td>1.000000</td>\n",
       "      <td>1.250000</td>\n",
       "      <td>13953.000000</td>\n",
       "    </tr>\n",
       "    <tr>\n",
       "      <th>50%</th>\n",
       "      <td>3.000000</td>\n",
       "      <td>2.080000</td>\n",
       "      <td>15152.000000</td>\n",
       "    </tr>\n",
       "    <tr>\n",
       "      <th>75%</th>\n",
       "      <td>10.000000</td>\n",
       "      <td>4.130000</td>\n",
       "      <td>16791.000000</td>\n",
       "    </tr>\n",
       "    <tr>\n",
       "      <th>max</th>\n",
       "      <td>80995.000000</td>\n",
       "      <td>38970.000000</td>\n",
       "      <td>18287.000000</td>\n",
       "    </tr>\n",
       "  </tbody>\n",
       "</table>\n",
       "</div>"
      ],
      "text/plain": [
       "            Quantity          Price    Customer ID\n",
       "count  541910.000000  541910.000000  406830.000000\n",
       "mean        9.552234       4.611138   15287.684160\n",
       "std       218.080957      96.759765    1713.603074\n",
       "min    -80995.000000  -11062.060000   12346.000000\n",
       "25%         1.000000       1.250000   13953.000000\n",
       "50%         3.000000       2.080000   15152.000000\n",
       "75%        10.000000       4.130000   16791.000000\n",
       "max     80995.000000   38970.000000   18287.000000"
      ]
     },
     "execution_count": 3,
     "metadata": {},
     "output_type": "execute_result"
    }
   ],
   "source": [
    "print(f\"Dataset contains {df.shape[0]} rows and {df.shape[1]} columns\")\n",
    "df.info()\n",
    "df.describe()"
   ]
  },
  {
   "cell_type": "code",
   "execution_count": 5,
   "id": "5f7e9d55-d078-44e6-9884-2a395d99557d",
   "metadata": {},
   "outputs": [
    {
     "data": {
      "text/plain": [
       "Invoice             0\n",
       "StockCode           0\n",
       "Description      1454\n",
       "Quantity            0\n",
       "InvoiceDate         0\n",
       "Price               0\n",
       "Customer ID    135080\n",
       "Country             0\n",
       "dtype: int64"
      ]
     },
     "execution_count": 5,
     "metadata": {},
     "output_type": "execute_result"
    }
   ],
   "source": [
    "df.isnull().sum()"
   ]
  },
  {
   "cell_type": "code",
   "execution_count": 7,
   "id": "925d45cd-e657-4145-8020-7e267cb5d7ce",
   "metadata": {},
   "outputs": [
    {
     "data": {
      "text/plain": [
       "5268"
      ]
     },
     "execution_count": 7,
     "metadata": {},
     "output_type": "execute_result"
    }
   ],
   "source": [
    "# Checking duplicate values\n",
    "\n",
    "df.duplicated().sum()"
   ]
  },
  {
   "cell_type": "code",
   "execution_count": 9,
   "id": "b569fe24-bb97-42fe-aae8-f2ca7c423359",
   "metadata": {},
   "outputs": [
    {
     "data": {
      "text/plain": [
       "Index(['Invoice', 'StockCode', 'Description', 'Quantity', 'InvoiceDate',\n",
       "       'Price', 'Customer ID', 'Country'],\n",
       "      dtype='object')"
      ]
     },
     "execution_count": 9,
     "metadata": {},
     "output_type": "execute_result"
    }
   ],
   "source": [
    "df.columns"
   ]
  },
  {
   "cell_type": "code",
   "execution_count": 11,
   "id": "cf405fd0-efc8-41a3-92fc-5117c8dc09ee",
   "metadata": {},
   "outputs": [],
   "source": [
    "# 1a. Handle missing values (especially CustomerID and Description)\n",
    "\n",
    "df = df.dropna(subset=['Customer ID', 'Description'])"
   ]
  },
  {
   "cell_type": "code",
   "execution_count": 13,
   "id": "40aafb18-c368-4c0e-a9db-64d50c004102",
   "metadata": {},
   "outputs": [
    {
     "data": {
      "text/plain": [
       "Invoice        0\n",
       "StockCode      0\n",
       "Description    0\n",
       "Quantity       0\n",
       "InvoiceDate    0\n",
       "Price          0\n",
       "Customer ID    0\n",
       "Country        0\n",
       "dtype: int64"
      ]
     },
     "execution_count": 13,
     "metadata": {},
     "output_type": "execute_result"
    }
   ],
   "source": [
    "df.isnull().sum()"
   ]
  },
  {
   "cell_type": "code",
   "execution_count": 15,
   "id": "80025473-2329-4092-9608-ed5f2b45a98c",
   "metadata": {},
   "outputs": [],
   "source": [
    "# Convert Customer ID to integer\n",
    "\n",
    "df['Customer ID'] = df['Customer ID'].astype(int)"
   ]
  },
  {
   "cell_type": "code",
   "execution_count": null,
   "id": "4a7a47da-acff-4e3b-8dff-64dfb485ffe7",
   "metadata": {},
   "outputs": [],
   "source": [
    "df.info()"
   ]
  },
  {
   "cell_type": "code",
   "execution_count": 19,
   "id": "029155f3-f606-42c5-aab0-6f0d8d51e0f6",
   "metadata": {},
   "outputs": [],
   "source": [
    "# 1b. Remove duplicate rows (keep first)\n",
    "\n",
    "df = df.drop_duplicates(keep='first').reset_index(drop=True)"
   ]
  },
  {
   "cell_type": "code",
   "execution_count": 21,
   "id": "a04d3ab1-ca29-4bdc-a1bc-73cc12a829c4",
   "metadata": {},
   "outputs": [
    {
     "name": "stdout",
     "output_type": "stream",
     "text": [
      "Dataset contains 401605 rows and 8 columns\n"
     ]
    }
   ],
   "source": [
    "print(f\"Dataset contains {df.shape[0]} rows and {df.shape[1]} columns\")"
   ]
  },
  {
   "cell_type": "code",
   "execution_count": 23,
   "id": "4b108085-daa3-4346-9275-78744572a2aa",
   "metadata": {},
   "outputs": [
    {
     "data": {
      "text/plain": [
       "0"
      ]
     },
     "execution_count": 23,
     "metadata": {},
     "output_type": "execute_result"
    }
   ],
   "source": [
    "df.duplicated().sum()"
   ]
  },
  {
   "cell_type": "code",
   "execution_count": 25,
   "id": "ce2e5757-b58c-42a0-8008-fdebb2f2fc4b",
   "metadata": {},
   "outputs": [
    {
     "data": {
      "text/plain": [
       "8872"
      ]
     },
     "execution_count": 25,
     "metadata": {},
     "output_type": "execute_result"
    }
   ],
   "source": [
    "# 1c. Handle canceled orders (where InvoiceNo starts with 'C')\n",
    "\n",
    "# Ensure Invoice is string\n",
    "df['Invoice'] = df['Invoice'].astype(str)\n",
    "\n",
    "# Rows where Invoice starts with 'C' (case-sensitive usually)\n",
    "mask_cancel = df['Invoice'].str.startswith('C')\n",
    "\n",
    "mask_cancel.sum()"
   ]
  },
  {
   "cell_type": "code",
   "execution_count": 27,
   "id": "001c2bda-d8a4-4102-9b1b-2eb6eb8e7fda",
   "metadata": {},
   "outputs": [
    {
     "data": {
      "text/plain": [
       "(392733, 8)"
      ]
     },
     "execution_count": 27,
     "metadata": {},
     "output_type": "execute_result"
    }
   ],
   "source": [
    "df = df[~mask_cancel].reset_index(drop=True)\n",
    "\n",
    "df.shape"
   ]
  },
  {
   "cell_type": "code",
   "execution_count": null,
   "id": "0e2ed116-9a84-4497-a026-984ad4e0258e",
   "metadata": {},
   "outputs": [],
   "source": [
    "# 1d. Remove or cap outliers in Quantity and UnitPrice\n",
    "\n",
    "display(df.sort_values('Quantity', ascending=False).head(10))\n",
    "display(df.sort_values('Price', ascending=False).head(10))"
   ]
  },
  {
   "cell_type": "code",
   "execution_count": 31,
   "id": "49631bd1-18c5-4640-8612-9f9d76873365",
   "metadata": {},
   "outputs": [
    {
     "name": "stdout",
     "output_type": "stream",
     "text": [
      "Quantity cutoffs: 1.0 120.0\n",
      "Price cutoffs: 0.21 14.95\n"
     ]
    }
   ],
   "source": [
    "q_low = df['Quantity'].quantile(0.01)\n",
    "q_high = df['Quantity'].quantile(0.99)\n",
    "\n",
    "p_low = df['Price'].quantile(0.01)\n",
    "p_high = df['Price'].quantile(0.99)\n",
    "\n",
    "print(\"Quantity cutoffs:\", q_low, q_high)\n",
    "print(\"Price cutoffs:\", p_low, p_high)"
   ]
  },
  {
   "cell_type": "code",
   "execution_count": 33,
   "id": "ec20850f-a6e8-49f4-9705-b855ff4f4d4b",
   "metadata": {},
   "outputs": [
    {
     "name": "stdout",
     "output_type": "stream",
     "text": [
      "Shape before: (392733, 8) after trimming: (382280, 8)\n"
     ]
    }
   ],
   "source": [
    "mask_keep = (\n",
    "    (df['Quantity'] >= q_low) & (df['Quantity'] <= q_high) &\n",
    "    (df['Price'] >= p_low) & (df['Price'] <= p_high)\n",
    ")\n",
    "\n",
    "\n",
    "df_trimmed = df[mask_keep].reset_index(drop=True)\n",
    "\n",
    "print(\"Shape before:\", df.shape, \"after trimming:\", df_trimmed.shape)"
   ]
  },
  {
   "cell_type": "code",
   "execution_count": 35,
   "id": "f9a746c2-16ea-40ad-9d73-7b2f26377897",
   "metadata": {},
   "outputs": [
    {
     "name": "stdout",
     "output_type": "stream",
     "text": [
      "Null dates after parsing: 0\n",
      "datetime64[ns]\n"
     ]
    },
    {
     "data": {
      "text/html": [
       "<div>\n",
       "<style scoped>\n",
       "    .dataframe tbody tr th:only-of-type {\n",
       "        vertical-align: middle;\n",
       "    }\n",
       "\n",
       "    .dataframe tbody tr th {\n",
       "        vertical-align: top;\n",
       "    }\n",
       "\n",
       "    .dataframe thead th {\n",
       "        text-align: right;\n",
       "    }\n",
       "</style>\n",
       "<table border=\"1\" class=\"dataframe\">\n",
       "  <thead>\n",
       "    <tr style=\"text-align: right;\">\n",
       "      <th></th>\n",
       "      <th>Invoice</th>\n",
       "      <th>InvoiceDate</th>\n",
       "    </tr>\n",
       "  </thead>\n",
       "  <tbody>\n",
       "    <tr>\n",
       "      <th>0</th>\n",
       "      <td>536365</td>\n",
       "      <td>2010-12-01 08:26:00</td>\n",
       "    </tr>\n",
       "    <tr>\n",
       "      <th>1</th>\n",
       "      <td>536365</td>\n",
       "      <td>2010-12-01 08:26:00</td>\n",
       "    </tr>\n",
       "    <tr>\n",
       "      <th>2</th>\n",
       "      <td>536365</td>\n",
       "      <td>2010-12-01 08:26:00</td>\n",
       "    </tr>\n",
       "    <tr>\n",
       "      <th>3</th>\n",
       "      <td>536365</td>\n",
       "      <td>2010-12-01 08:26:00</td>\n",
       "    </tr>\n",
       "    <tr>\n",
       "      <th>4</th>\n",
       "      <td>536365</td>\n",
       "      <td>2010-12-01 08:26:00</td>\n",
       "    </tr>\n",
       "  </tbody>\n",
       "</table>\n",
       "</div>"
      ],
      "text/plain": [
       "  Invoice         InvoiceDate\n",
       "0  536365 2010-12-01 08:26:00\n",
       "1  536365 2010-12-01 08:26:00\n",
       "2  536365 2010-12-01 08:26:00\n",
       "3  536365 2010-12-01 08:26:00\n",
       "4  536365 2010-12-01 08:26:00"
      ]
     },
     "metadata": {},
     "output_type": "display_data"
    }
   ],
   "source": [
    "# 1e. Convert InvoiceDate to proper datetime format\n",
    "\n",
    "df['InvoiceDate'] = pd.to_datetime(df['InvoiceDate'], format='%Y-%m-%d %H:%M:%S', errors='coerce')\n",
    "\n",
    "# Check parsing success\n",
    "print(\"Null dates after parsing:\", df['InvoiceDate'].isna().sum())\n",
    "print(df['InvoiceDate'].dtype)\n",
    "display(df[['Invoice','InvoiceDate']].head())"
   ]
  },
  {
   "cell_type": "code",
   "execution_count": 37,
   "id": "a08e2d44-67e6-4e26-bad0-e7efd5a68a44",
   "metadata": {},
   "outputs": [
    {
     "name": "stdout",
     "output_type": "stream",
     "text": [
      "No of Unique products = 3877\n"
     ]
    }
   ],
   "source": [
    "# EDA - 2a.  How many unique products are there?\n",
    "\n",
    "count_products = df['Description'].value_counts()\n",
    "\n",
    "unique_products = count_products.count()\n",
    "\n",
    "print(f'No of Unique products = {unique_products}')"
   ]
  },
  {
   "cell_type": "code",
   "execution_count": 39,
   "id": "aba7bc42-876f-4863-8a13-3ac8dc1c4f3f",
   "metadata": {},
   "outputs": [
    {
     "name": "stdout",
     "output_type": "stream",
     "text": [
      "No of Unique products = 3877\n"
     ]
    }
   ],
   "source": [
    "# EDA - 2a.  How many unique products are there?\n",
    "\n",
    "unique_products = df['Description'].nunique()\n",
    "print(f'No of Unique products = {unique_products}')"
   ]
  },
  {
   "cell_type": "code",
   "execution_count": 41,
   "id": "074a6a52-5a7b-4c26-bc2c-dcce766cf483",
   "metadata": {},
   "outputs": [
    {
     "name": "stdout",
     "output_type": "stream",
     "text": [
      "No of Transactions = 18536\n"
     ]
    }
   ],
   "source": [
    "# EDA - 2b.  What is the total number of transactions?\n",
    "\n",
    "transactions = df['Invoice'].value_counts()\n",
    "\n",
    "no_of_transactions = transactions.count()\n",
    "\n",
    "print(f'No of Transactions = {no_of_transactions}')"
   ]
  },
  {
   "cell_type": "code",
   "execution_count": 43,
   "id": "a008f992-891f-4ca5-bb3d-d2815e006c07",
   "metadata": {},
   "outputs": [
    {
     "name": "stdout",
     "output_type": "stream",
     "text": [
      "No of Transactions = 18536\n"
     ]
    }
   ],
   "source": [
    "# EDA - 2b.  What is the total number of transactions?\n",
    "\n",
    "no_of_transactions = df['Invoice'].nunique()\n",
    "print(f'No of Transactions = {no_of_transactions}')"
   ]
  },
  {
   "cell_type": "code",
   "execution_count": 45,
   "id": "b1cf91b2-ff7e-4729-bc08-4692f33d64c5",
   "metadata": {},
   "outputs": [
    {
     "name": "stdout",
     "output_type": "stream",
     "text": [
      "No of Unique Customers = 4339\n"
     ]
    }
   ],
   "source": [
    "# EDA - 2c.  How many unique customers are there?\n",
    "\n",
    "unique_customers = df['Customer ID'].nunique()\n",
    "\n",
    "print(f'No of Unique Customers = {unique_customers}')"
   ]
  },
  {
   "cell_type": "code",
   "execution_count": 47,
   "id": "94b8734f-eaaf-40b4-bab6-13547114d272",
   "metadata": {},
   "outputs": [
    {
     "name": "stdout",
     "output_type": "stream",
     "text": [
      "Countries = ['United Kingdom' 'France' 'Australia' 'Netherlands' 'Germany' 'Norway'\n",
      " 'EIRE' 'Switzerland' 'Spain' 'Poland' 'Portugal' 'Italy' 'Belgium'\n",
      " 'Lithuania' 'Japan' 'Iceland' 'Channel Islands' 'Denmark' 'Cyprus'\n",
      " 'Sweden' 'Finland' 'Austria' 'Greece' 'Singapore' 'Lebanon'\n",
      " 'United Arab Emirates' 'Israel' 'Saudi Arabia' 'Czech Republic' 'Canada'\n",
      " 'Unspecified' 'Brazil' 'USA' 'European Community' 'Bahrain' 'Malta' 'RSA']\n"
     ]
    }
   ],
   "source": [
    "# EDA - 2d.  What countries do the customers belong to?\n",
    "\n",
    "countries = df['Country'].unique()\n",
    "\n",
    "print(f'Countries = {countries}')"
   ]
  },
  {
   "cell_type": "code",
   "execution_count": 49,
   "id": "acd97419-31fa-425a-82bf-01afceeae23e",
   "metadata": {},
   "outputs": [
    {
     "name": "stdout",
     "output_type": "stream",
     "text": [
      "The top 10 selling products are given below:\n",
      "\n",
      "Description\n",
      "WHITE HANGING HEART T-LIGHT HOLDER    2016\n",
      "REGENCY CAKESTAND 3 TIER              1714\n",
      "JUMBO BAG RED RETROSPOT               1615\n",
      "ASSORTED COLOUR BIRD ORNAMENT         1395\n",
      "PARTY BUNTING                         1390\n",
      "LUNCH BAG RED RETROSPOT               1303\n",
      "SET OF 3 CAKE TINS PANTRY DESIGN      1152\n",
      "POSTAGE                               1100\n",
      "LUNCH BAG  BLACK SKULL.               1078\n",
      "PACK OF 72 RETROSPOT CAKE CASES       1050\n",
      "Name: count, dtype: int64\n"
     ]
    }
   ],
   "source": [
    "# Product Analysis - 3a.  What are the top 10 selling products by quantity?\n",
    "\n",
    "print(f'The top 10 selling products are given below:\\n\\n{count_products.head(10)}')"
   ]
  },
  {
   "cell_type": "code",
   "execution_count": 51,
   "id": "684305c0-30ff-4866-8350-94d64a5cb1db",
   "metadata": {},
   "outputs": [
    {
     "name": "stdout",
     "output_type": "stream",
     "text": [
      "The top 10 revenue-generating products are given below:\n",
      "\n",
      "Description\n",
      "PAPER CRAFT , LITTLE BIRDIE           168469.60\n",
      "REGENCY CAKESTAND 3 TIER              142264.75\n",
      "WHITE HANGING HEART T-LIGHT HOLDER    100392.10\n",
      "JUMBO BAG RED RETROSPOT                85040.54\n",
      "MEDIUM CERAMIC TOP STORAGE JAR         81416.73\n",
      "POSTAGE                                77821.96\n",
      "PARTY BUNTING                          68785.23\n",
      "ASSORTED COLOUR BIRD ORNAMENT          56413.03\n",
      "Manual                                 53419.93\n",
      "RABBIT NIGHT LIGHT                     51251.24\n",
      "Name: Revenue, dtype: float64\n"
     ]
    }
   ],
   "source": [
    "# Product Analysis - 3b.  What are the top 10 revenue-generating products?\n",
    "\n",
    "df['Revenue'] = df['Quantity'] * df['Price']\n",
    "\n",
    "revenue_by_product = df.groupby('Description')['Revenue'].sum()\n",
    "\n",
    "top_10_revenue_products = revenue_by_product.sort_values(ascending=False).head(10)\n",
    "\n",
    "print(f'The top 10 revenue-generating products are given below:\\n\\n{top_10_revenue_products}')"
   ]
  },
  {
   "cell_type": "code",
   "execution_count": 53,
   "id": "164005ae-0589-4e6d-9881-84416eb6a17b",
   "metadata": {},
   "outputs": [
    {
     "name": "stdout",
     "output_type": "stream",
     "text": [
      "Products having invalid prices are given below:\n",
      "\n",
      "['ROUND CAKE TIN VINTAGE GREEN' 'ADVENT CALENDAR GINGHAM SACK'\n",
      " 'REGENCY CAKESTAND 3 TIER' 'PAPER BUNTING RETROSPOT'\n",
      " 'PLASTERS IN TIN SKULLS' 'ORGANISER WOOD ANTIQUE WHITE '\n",
      " 'FAIRY CAKES NOTEBOOK A6 SIZE' 'CERAMIC BOWL WITH LOVE HEART DESIGN'\n",
      " 'MINI CAKE STAND  HANGING STRAWBERY' 'HEART GARLAND RUSTIC PADDED'\n",
      " 'CHILDS BREAKFAST SET CIRCUS PARADE' 'PARTY BUNTING'\n",
      " 'SET OF 6 SOLDIER SKITTLES' ' OVAL WALL MIRROR DIAMANTE '\n",
      " 'JAM MAKING SET WITH JARS' 'Manual' 'SET OF 6 NATIVITY MAGNETS '\n",
      " 'SET OF 2 CERAMIC PAINTED HEARTS ' 'SET OF 2 CERAMIC CHRISTMAS REINDEER'\n",
      " '36 FOIL STAR CAKE CASES ' 'POLKADOT RAIN HAT '\n",
      " 'PADS TO MATCH ALL CUSHIONS' 'GLASS CLOCHE SMALL'\n",
      " 'PASTEL COLOUR HONEYCOMB FAN' 'BISCUIT TIN VINTAGE CHRISTMAS'\n",
      " 'CHRISTMAS PUDDING TRINKET POT ' 'JUMBO BAG SPACEBOY DESIGN'\n",
      " 'RED KITCHEN SCALES' \"CHILDREN'S APRON DOLLY GIRL \"\n",
      " 'MINI LIGHTS WOODLAND MUSHROOMS' 'SET OF 9 BLACK SKULL BALLOONS'\n",
      " 'PAPER BUNTING VINTAGE PAISLEY' 'HANGING METAL HEART LANTERN'\n",
      " 'SET OF 2 TRAYS HOME SWEET HOME' 'ASSTD DESIGN 3D PAPER STICKERS']\n"
     ]
    }
   ],
   "source": [
    "# Product Analysis - 3c.  Which products have negative or zero unit prices?\n",
    "\n",
    "invalid_price_products = df[df['Price'] <= 0]\n",
    "\n",
    "invalid_products_list = invalid_price_products['Description'].unique()\n",
    "\n",
    "print(f'Products having invalid prices are given below:\\n\\n{invalid_products_list}')"
   ]
  },
  {
   "cell_type": "code",
   "execution_count": 55,
   "id": "158ead17-f444-4985-a03b-cc8700dda06b",
   "metadata": {},
   "outputs": [
    {
     "name": "stdout",
     "output_type": "stream",
     "text": [
      "Top 10 customers who bought the most products are given below:\n",
      "\n",
      "Customer ID\n",
      "17841    7676\n",
      "14911    5672\n",
      "14096    5111\n",
      "12748    4413\n",
      "14606    2677\n",
      "15311    2366\n",
      "14646    2080\n",
      "13089    1814\n",
      "13263    1667\n",
      "14298    1637\n",
      "Name: count, dtype: int64\n"
     ]
    }
   ],
   "source": [
    "# Customer Analysis: - 4a.  Which customers bought the most products?\n",
    "\n",
    "top_buyers = df['Customer ID'].value_counts().head(10)\n",
    "\n",
    "print(f'Top 10 customers who bought the most products are given below:\\n\\n{top_buyers}')"
   ]
  },
  {
   "cell_type": "code",
   "execution_count": null,
   "id": "e9b859cf-cfbe-417d-ad47-2a913e2e7f4e",
   "metadata": {},
   "outputs": [],
   "source": [
    "# Customer Analysis: - 4b.  What is the distribution of purchases per customer?\n",
    "\n",
    "purchases_per_customer_rows = df['Customer ID'].value_counts()\n",
    "\n",
    "\n",
    "\n",
    "plt.figure(figsize=(15,5))\n",
    "sns.histplot(purchases_per_customer_rows, bins=150, kde=True)\n",
    "plt.title('Distribution of Purchase Entries per Customer')\n",
    "plt.xlabel('Number of Line Items')\n",
    "plt.ylabel('Number of Customers')\n",
    "plt.show()"
   ]
  },
  {
   "cell_type": "code",
   "execution_count": 59,
   "id": "a233effb-c1c1-46f4-8238-f388ea772269",
   "metadata": {},
   "outputs": [
    {
     "name": "stdout",
     "output_type": "stream",
     "text": [
      "Top 10 Frequent Buyers(Loyal Customers) are given below:\n",
      "\n",
      "Customer ID\n",
      "12748    210\n",
      "14911    201\n",
      "17841    124\n",
      "13089     97\n",
      "14606     93\n",
      "15311     91\n",
      "12971     86\n",
      "14646     74\n",
      "16029     63\n",
      "13408     62\n",
      "Name: Invoice, dtype: int64\n"
     ]
    }
   ],
   "source": [
    "# Customer Analysis: - 4c.  Are there any loyal customers?\n",
    "\n",
    "customer_purchases = df.groupby('Customer ID')['Invoice'].nunique()\n",
    "\n",
    "frequent_buyers = customer_purchases.sort_values(ascending=False).head(10)\n",
    "\n",
    "print(f'Top 10 Frequent Buyers(Loyal Customers) are given below:\\n\\n{frequent_buyers}')"
   ]
  },
  {
   "cell_type": "code",
   "execution_count": 61,
   "id": "7f7e1dd9-5f27-4cb5-a28b-0ec92255061c",
   "metadata": {},
   "outputs": [
    {
     "data": {
      "text/plain": [
       "Month\n",
       "2010-12     570422.730\n",
       "2011-01     568101.310\n",
       "2011-02     446084.920\n",
       "2011-03     594081.760\n",
       "2011-04     468374.331\n",
       "2011-05     677355.150\n",
       "2011-06     660046.050\n",
       "2011-07     598962.901\n",
       "2011-08     644051.040\n",
       "2011-09     950690.202\n",
       "2011-10    1035642.450\n",
       "2011-11    1156205.610\n",
       "2011-12     517208.440\n",
       "Freq: M, Name: Revenue, dtype: float64"
      ]
     },
     "execution_count": 61,
     "metadata": {},
     "output_type": "execute_result"
    }
   ],
   "source": [
    "# Time Series & Seasonal Trends: - 5a.  What are the monthly sales trends?\n",
    "\n",
    "df['Month'] = df['InvoiceDate'].dt.to_period('M')\n",
    "\n",
    "monthly_sales = df.groupby('Month')['Revenue'].sum()\n",
    "\n",
    "monthly_sales"
   ]
  },
  {
   "cell_type": "code",
   "execution_count": null,
   "id": "4f5aa701-bf93-4598-87d9-4b874029c885",
   "metadata": {},
   "outputs": [],
   "source": [
    "plt.figure(figsize=(12,5))\n",
    "monthly_sales.plot(kind='line', marker='o')\n",
    "plt.title('Monthly Sales Trend')\n",
    "plt.xlabel('Month')\n",
    "plt.ylabel('Total Sales')\n",
    "plt.grid(True)\n",
    "plt.show()"
   ]
  },
  {
   "cell_type": "code",
   "execution_count": 65,
   "id": "4650a6fc-93f9-4f32-bad8-b5366ce2df12",
   "metadata": {},
   "outputs": [
    {
     "data": {
      "text/plain": [
       "InvoiceDate\n",
       "2010-12-01    121\n",
       "2010-12-02    137\n",
       "2010-12-03     57\n",
       "2010-12-05     87\n",
       "2010-12-06     94\n",
       "             ... \n",
       "2011-12-05    116\n",
       "2011-12-06    110\n",
       "2011-12-07    104\n",
       "2011-12-08    113\n",
       "2011-12-09     41\n",
       "Name: Invoice, Length: 305, dtype: int64"
      ]
     },
     "execution_count": 65,
     "metadata": {},
     "output_type": "execute_result"
    }
   ],
   "source": [
    "# Time Series & Seasonal Trends: - 5b.  What are the daily or weekly patterns of transactions?\n",
    "\n",
    "daily_transactions = df.groupby(df['InvoiceDate'].dt.date)['Invoice'].nunique()\n",
    "\n",
    "daily_transactions"
   ]
  },
  {
   "cell_type": "code",
   "execution_count": null,
   "id": "e1c7a62f-febc-4080-a092-a8d4403baba8",
   "metadata": {},
   "outputs": [],
   "source": [
    "weekly_transactions = df.groupby(df['InvoiceDate'].dt.isocalendar().week)['Invoice'].nunique()\n",
    "\n",
    "weekly_transactions"
   ]
  },
  {
   "cell_type": "code",
   "execution_count": null,
   "id": "16bb2cc0-8ab6-48f4-bbc7-6c54c33506f8",
   "metadata": {},
   "outputs": [],
   "source": [
    "plt.figure(figsize=(12,5))\n",
    "daily_transactions.plot(kind='line')\n",
    "plt.title('Daily Transaction Trend')\n",
    "plt.xlabel('Date')\n",
    "plt.ylabel('Number of Transactions')\n",
    "plt.grid(True)\n",
    "plt.show()"
   ]
  },
  {
   "cell_type": "code",
   "execution_count": null,
   "id": "346b2e7b-498b-4dbb-9a4a-577241a7ec46",
   "metadata": {},
   "outputs": [],
   "source": [
    "plt.figure(figsize=(10,5))\n",
    "weekly_transactions.plot(kind='line', marker='o')\n",
    "plt.title('Weekly Transaction Trend')\n",
    "plt.xlabel('Week Number')\n",
    "plt.ylabel('Number of Transactions')\n",
    "plt.grid(True)\n",
    "plt.show()"
   ]
  },
  {
   "cell_type": "code",
   "execution_count": 73,
   "id": "bc73343a-11c1-4e5f-8fd7-4aa63403c4e3",
   "metadata": {},
   "outputs": [
    {
     "data": {
      "text/plain": [
       "Month\n",
       "2011-12    517208.440\n",
       "2011-04    468374.331\n",
       "2011-02    446084.920\n",
       "Freq: M, Name: Revenue, dtype: float64"
      ]
     },
     "execution_count": 73,
     "metadata": {},
     "output_type": "execute_result"
    }
   ],
   "source": [
    "# Time Series & Seasonal Trends: - 5c.  Identify peak sales months and slow seasons.\n",
    "\n",
    "sorted_monthly_sales = monthly_sales.sort_values(ascending=False)\n",
    "\n",
    "sorted_monthly_sales.head(3)\n",
    "sorted_monthly_sales.tail(3)"
   ]
  },
  {
   "cell_type": "code",
   "execution_count": null,
   "id": "3bd042ea-e6d8-4fa6-9c8b-c44321a2c6fa",
   "metadata": {},
   "outputs": [],
   "source": [
    "plt.figure(figsize=(10,5))\n",
    "sorted_monthly_sales.plot(kind='bar')\n",
    "plt.title('Monthly Sales Trend')\n",
    "plt.xlabel('Month')\n",
    "plt.ylabel('Total Sales')\n",
    "plt.show()"
   ]
  },
  {
   "cell_type": "code",
   "execution_count": 77,
   "id": "dd50c63a-5dd3-497c-9ded-c9e1ce2f828a",
   "metadata": {},
   "outputs": [
    {
     "name": "stdout",
     "output_type": "stream",
     "text": [
      "Top 10 Countries who bought the most products are given below:\n",
      "\n",
      "Country\n",
      "United Kingdom    349227\n",
      "Germany             9027\n",
      "France              8328\n",
      "EIRE                7228\n",
      "Spain               2480\n",
      "Netherlands         2363\n",
      "Belgium             2031\n",
      "Switzerland         1842\n",
      "Portugal            1453\n",
      "Australia           1184\n",
      "Name: count, dtype: int64\n"
     ]
    }
   ],
   "source": [
    "# Country Analysis: - 6a.  Which countries have the highest number of orders?\n",
    "\n",
    "highest_countries = df['Country'].value_counts().sort_values(ascending=False).head(10)\n",
    "\n",
    "\n",
    "print(f'Top 10 Countries who bought the most products are given below:\\n\\n{highest_countries}')"
   ]
  },
  {
   "cell_type": "code",
   "execution_count": null,
   "id": "9ab830dd-b7af-45ad-92fa-6305f6be6055",
   "metadata": {},
   "outputs": [],
   "source": [
    "highest_countries.plot(kind='bar', figsize=(10,5), title='Top 10 Countries by Purchase Rows')\n",
    "plt.ylabel('Number of Purchase Entries')\n",
    "plt.show()"
   ]
  },
  {
   "cell_type": "code",
   "execution_count": 81,
   "id": "cf85c96a-b51b-4607-86de-0fed6ac20352",
   "metadata": {},
   "outputs": [
    {
     "data": {
      "text/plain": [
       "Country\n",
       "United Kingdom    7285024.644\n",
       "Netherlands        285446.340\n",
       "EIRE               265262.460\n",
       "Germany            228678.400\n",
       "France             208952.310\n",
       "Australia          138453.810\n",
       "Spain               61558.560\n",
       "Switzerland         56443.950\n",
       "Belgium             41196.340\n",
       "Sweden              38367.830\n",
       "Name: Revenue, dtype: float64"
      ]
     },
     "execution_count": 81,
     "metadata": {},
     "output_type": "execute_result"
    }
   ],
   "source": [
    "# Country Analysis: - 6b.  Revenue comparison across countries\n",
    "\n",
    "revenue_countries = df.groupby('Country')['Revenue'].sum()\n",
    "\n",
    "top_revenue_countries = revenue_countries.sort_values(ascending=False).head(10)\n",
    "\n",
    "top_revenue_countries"
   ]
  },
  {
   "cell_type": "code",
   "execution_count": null,
   "id": "db085b64-da76-4785-b9e1-0914718a5e71",
   "metadata": {},
   "outputs": [],
   "source": [
    "plt.figure(figsize=(10,5))\n",
    "top_revenue_countries.plot(kind='bar')\n",
    "plt.title('Top 10 Countries by Revenue')\n",
    "plt.xlabel('Country')\n",
    "plt.ylabel('Total Revenue')\n",
    "plt.show()"
   ]
  },
  {
   "cell_type": "code",
   "execution_count": null,
   "id": "281c20b7-8686-4683-8414-99df38922cbe",
   "metadata": {},
   "outputs": [],
   "source": [
    "# Below is the  Working for POWER BI:"
   ]
  },
  {
   "cell_type": "code",
   "execution_count": 87,
   "id": "7586d3a6-9ddc-4559-8ac3-09fbb2ff7d40",
   "metadata": {},
   "outputs": [],
   "source": [
    "df.to_csv(r'D:\\Farooq_Hussain\\Python\\Data Analysis\\07 - EDA_Online_Retail_Sales\\data\\cleaned_retail_data.csv', index=False)"
   ]
  },
  {
   "cell_type": "code",
   "execution_count": 101,
   "id": "741d8f7b-f831-471d-8980-79551d02aaf7",
   "metadata": {},
   "outputs": [],
   "source": [
    "monthly_sales_trend_csv  = sorted_monthly_sales.sort_index()\n",
    "\n",
    "monthly_sales_trend_csv.to_csv(r'D:\\Farooq_Hussain\\Python\\Data Analysis\\07 - EDA_Online_Retail_Sales\\data\\monthly_sales_trend.csv')"
   ]
  },
  {
   "cell_type": "code",
   "execution_count": 99,
   "id": "579efb6c-e91f-45e9-9300-6a60edef8529",
   "metadata": {},
   "outputs": [],
   "source": [
    "top_10_products_qty_csv = count_products.head(10)\n",
    "\n",
    "top_10_products_qty_csv.to_csv(r'D:\\Farooq_Hussain\\Python\\Data Analysis\\07 - EDA_Online_Retail_Sales\\data\\top_10_products_qty.csv')"
   ]
  },
  {
   "cell_type": "code",
   "execution_count": 103,
   "id": "9f875bc8-e97f-4093-92e4-ba2ee1a77374",
   "metadata": {},
   "outputs": [],
   "source": [
    "top_10_products_revenue_csv = top_10_revenue_products\n",
    "\n",
    "top_10_products_revenue_csv.to_csv(r'D:\\Farooq_Hussain\\Python\\Data Analysis\\07 - EDA_Online_Retail_Sales\\data\\top_10_products_revenue.csv')"
   ]
  },
  {
   "cell_type": "code",
   "execution_count": 105,
   "id": "41f2367a-617e-4df1-8e1b-e00f6b789f03",
   "metadata": {},
   "outputs": [],
   "source": [
    "loyal_customers_csv = frequent_buyers\n",
    "\n",
    "loyal_customers_csv.to_csv(r'D:\\Farooq_Hussain\\Python\\Data Analysis\\07 - EDA_Online_Retail_Sales\\data\\loyal_customers.csv')"
   ]
  },
  {
   "cell_type": "code",
   "execution_count": 107,
   "id": "73743937-6a82-41e0-96d2-1723ada9bc4e",
   "metadata": {},
   "outputs": [],
   "source": [
    "country_revenue_table_csv = top_revenue_countries\n",
    "\n",
    "country_revenue_table_csv.to_csv(r'D:\\Farooq_Hussain\\Python\\Data Analysis\\07 - EDA_Online_Retail_Sales\\data\\country_revenue_table.csv')"
   ]
  },
  {
   "cell_type": "code",
   "execution_count": null,
   "id": "c66870b9-69af-42c1-b2ec-fa31a35640fa",
   "metadata": {},
   "outputs": [],
   "source": []
  }
 ],
 "metadata": {
  "kernelspec": {
   "display_name": "Python [conda env:base] *",
   "language": "python",
   "name": "conda-base-py"
  },
  "language_info": {
   "codemirror_mode": {
    "name": "ipython",
    "version": 3
   },
   "file_extension": ".py",
   "mimetype": "text/x-python",
   "name": "python",
   "nbconvert_exporter": "python",
   "pygments_lexer": "ipython3",
   "version": "3.12.7"
  }
 },
 "nbformat": 4,
 "nbformat_minor": 5
}
